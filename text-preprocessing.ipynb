{
 "cells": [
  {
   "cell_type": "code",
   "execution_count": 24,
   "id": "1eb33404",
   "metadata": {},
   "outputs": [
    {
     "data": {
      "text/plain": [
       "76"
      ]
     },
     "execution_count": 24,
     "metadata": {},
     "output_type": "execute_result"
    }
   ],
   "source": [
    "text1 = \" Ethics are built right into the ideals and objectives of the United Nations\"\n",
    "len(text1)\n",
    "\n"
   ]
  },
  {
   "cell_type": "code",
   "execution_count": 25,
   "id": "be9de4a1",
   "metadata": {},
   "outputs": [
    {
     "data": {
      "text/plain": [
       "['',\n",
       " 'Ethics',\n",
       " 'are',\n",
       " 'built',\n",
       " 'right',\n",
       " 'into',\n",
       " 'the',\n",
       " 'ideals',\n",
       " 'and',\n",
       " 'objectives',\n",
       " 'of',\n",
       " 'the',\n",
       " 'United',\n",
       " 'Nations']"
      ]
     },
     "execution_count": 25,
     "metadata": {},
     "output_type": "execute_result"
    }
   ],
   "source": [
    "text1.split(' ')"
   ]
  },
  {
   "cell_type": "code",
   "execution_count": 26,
   "id": "02018d05",
   "metadata": {},
   "outputs": [
    {
     "data": {
      "text/plain": [
       "14"
      ]
     },
     "execution_count": 26,
     "metadata": {},
     "output_type": "execute_result"
    }
   ],
   "source": [
    "text2 = text1.split(' ')\n",
    "len(text2)"
   ]
  },
  {
   "cell_type": "code",
   "execution_count": 27,
   "id": "29548c39",
   "metadata": {},
   "outputs": [
    {
     "data": {
      "text/plain": [
       "['Ethics',\n",
       " 'built',\n",
       " 'right',\n",
       " 'into',\n",
       " 'ideals',\n",
       " 'objectives',\n",
       " 'United',\n",
       " 'Nations']"
      ]
     },
     "execution_count": 27,
     "metadata": {},
     "output_type": "execute_result"
    }
   ],
   "source": [
    "[w for w in text2 if len(w)>3]"
   ]
  },
  {
   "cell_type": "code",
   "execution_count": 28,
   "id": "cbb76e2d",
   "metadata": {},
   "outputs": [
    {
     "data": {
      "text/plain": [
       "['', 'of']"
      ]
     },
     "execution_count": 28,
     "metadata": {},
     "output_type": "execute_result"
    }
   ],
   "source": [
    "[w for w in text2 if len(w) < 3]"
   ]
  },
  {
   "cell_type": "code",
   "execution_count": 29,
   "id": "154239c7",
   "metadata": {},
   "outputs": [
    {
     "data": {
      "text/plain": [
       "['Ethics', 'United', 'Nations']"
      ]
     },
     "execution_count": 29,
     "metadata": {},
     "output_type": "execute_result"
    }
   ],
   "source": [
    "[w for w in text2 if w.istitle()]"
   ]
  },
  {
   "cell_type": "code",
   "execution_count": 30,
   "id": "91620f00",
   "metadata": {},
   "outputs": [
    {
     "data": {
      "text/plain": [
       "['Ethics', 'ideals', 'objectives', 'Nations']"
      ]
     },
     "execution_count": 30,
     "metadata": {},
     "output_type": "execute_result"
    }
   ],
   "source": [
    "[w for w in text2 if w.endswith('s')]"
   ]
  },
  {
   "cell_type": "code",
   "execution_count": 32,
   "id": "97831bba",
   "metadata": {},
   "outputs": [
    {
     "data": {
      "text/plain": [
       "['into', 'ideals']"
      ]
     },
     "execution_count": 32,
     "metadata": {},
     "output_type": "execute_result"
    }
   ],
   "source": [
    "[w for w in text2 if w.startswith('i')]"
   ]
  },
  {
   "cell_type": "code",
   "execution_count": 71,
   "id": "55cbf5b0",
   "metadata": {},
   "outputs": [
    {
     "data": {
      "text/plain": [
       "['objectives', 'Nations']"
      ]
     },
     "execution_count": 71,
     "metadata": {},
     "output_type": "execute_result"
    }
   ],
   "source": [
    "[w for w in text2 if 'ti'in w]"
   ]
  },
  {
   "cell_type": "code",
   "execution_count": 77,
   "id": "92356da0",
   "metadata": {},
   "outputs": [
    {
     "data": {
      "text/plain": [
       "['Ethics',\n",
       " 'are',\n",
       " 'built',\n",
       " 'right',\n",
       " 'into',\n",
       " 'the',\n",
       " 'ideals',\n",
       " 'and',\n",
       " 'objectives',\n",
       " 'of',\n",
       " 'the',\n",
       " 'United',\n",
       " 'Nations']"
      ]
     },
     "execution_count": 77,
     "metadata": {},
     "output_type": "execute_result"
    }
   ],
   "source": [
    "[w for w in text2 if w.isalnum()]"
   ]
  },
  {
   "cell_type": "code",
   "execution_count": 37,
   "id": "f65f1436",
   "metadata": {},
   "outputs": [
    {
     "data": {
      "text/plain": [
       "7"
      ]
     },
     "execution_count": 37,
     "metadata": {},
     "output_type": "execute_result"
    }
   ],
   "source": [
    "# now we can get unique words with set()\n",
    "text3 = \"To be or not to be ...\"\n",
    "text4 = text3.split(' ')\n",
    "\n",
    "len(text4)"
   ]
  },
  {
   "cell_type": "code",
   "execution_count": 38,
   "id": "8735ad98",
   "metadata": {},
   "outputs": [
    {
     "data": {
      "text/plain": [
       "{'...', 'To', 'be', 'not', 'or', 'to'}"
      ]
     },
     "execution_count": 38,
     "metadata": {},
     "output_type": "execute_result"
    }
   ],
   "source": [
    "set(text4)"
   ]
  },
  {
   "cell_type": "code",
   "execution_count": 39,
   "id": "a3191289",
   "metadata": {},
   "outputs": [
    {
     "data": {
      "text/plain": [
       "6"
      ]
     },
     "execution_count": 39,
     "metadata": {},
     "output_type": "execute_result"
    }
   ],
   "source": [
    "len (set(text4))"
   ]
  },
  {
   "cell_type": "code",
   "execution_count": 41,
   "id": "ff12df63",
   "metadata": {},
   "outputs": [
    {
     "data": {
      "text/plain": [
       "{'...', 'be', 'not', 'or', 'to'}"
      ]
     },
     "execution_count": 41,
     "metadata": {},
     "output_type": "execute_result"
    }
   ],
   "source": [
    "set([w.lower() for w in text4])"
   ]
  },
  {
   "cell_type": "code",
   "execution_count": 42,
   "id": "afdd2dce",
   "metadata": {},
   "outputs": [
    {
     "data": {
      "text/plain": [
       "{'...', 'BE', 'NOT', 'OR', 'TO'}"
      ]
     },
     "execution_count": 42,
     "metadata": {},
     "output_type": "execute_result"
    }
   ],
   "source": [
    "set([w.upper() for w in text4])"
   ]
  },
  {
   "cell_type": "code",
   "execution_count": 43,
   "id": "9eaf3308",
   "metadata": {},
   "outputs": [
    {
     "data": {
      "text/plain": [
       "5"
      ]
     },
     "execution_count": 43,
     "metadata": {},
     "output_type": "execute_result"
    }
   ],
   "source": [
    "len(set([w.lower() for w in text4]))"
   ]
  },
  {
   "cell_type": "markdown",
   "id": "a0f754c8",
   "metadata": {},
   "source": [
    "\n"
   ]
  },
  {
   "cell_type": "code",
   "execution_count": 49,
   "id": "2968e2bb",
   "metadata": {},
   "outputs": [],
   "source": [
    " s = set ([w.title() for w in text4])"
   ]
  },
  {
   "cell_type": "code",
   "execution_count": 50,
   "id": "d8661c82",
   "metadata": {},
   "outputs": [
    {
     "data": {
      "text/plain": [
       "5"
      ]
     },
     "execution_count": 50,
     "metadata": {},
     "output_type": "execute_result"
    }
   ],
   "source": [
    "len(s)"
   ]
  },
  {
   "cell_type": "code",
   "execution_count": 51,
   "id": "4c0ab447",
   "metadata": {},
   "outputs": [
    {
     "data": {
      "text/plain": [
       "{'...', 'Be', 'Not', 'Or', 'To'}"
      ]
     },
     "execution_count": 51,
     "metadata": {},
     "output_type": "execute_result"
    }
   ],
   "source": [
    "s"
   ]
  },
  {
   "cell_type": "code",
   "execution_count": 52,
   "id": "7097ecfa",
   "metadata": {},
   "outputs": [],
   "source": [
    "# prerocessing free-text like a tweet\n",
    "text5 = '\"Ethics are built right into the ideals and objectives of the United Nations\" \\\n",
    "#UNSG @ NY Society for Ethical Culture bit.ly/2guVelr'"
   ]
  },
  {
   "cell_type": "code",
   "execution_count": 55,
   "id": "40e58b74",
   "metadata": {},
   "outputs": [
    {
     "data": {
      "text/plain": [
       "['\"Ethics',\n",
       " 'are',\n",
       " 'built',\n",
       " 'right',\n",
       " 'into',\n",
       " 'the',\n",
       " 'ideals',\n",
       " 'and',\n",
       " 'objectives',\n",
       " 'of',\n",
       " 'the',\n",
       " 'United',\n",
       " 'Nations\"',\n",
       " '#UNSG',\n",
       " '@',\n",
       " 'NY',\n",
       " 'Society',\n",
       " 'for',\n",
       " 'Ethical',\n",
       " 'Culture',\n",
       " 'bit.ly/2guVelr']"
      ]
     },
     "execution_count": 55,
     "metadata": {},
     "output_type": "execute_result"
    }
   ],
   "source": [
    "mytext = text5.split()\n",
    "len (mytext)\n",
    "mytext"
   ]
  },
  {
   "cell_type": "code",
   "execution_count": 57,
   "id": "ac166462",
   "metadata": {},
   "outputs": [
    {
     "data": {
      "text/plain": [
       "['#UNSG']"
      ]
     },
     "execution_count": 57,
     "metadata": {},
     "output_type": "execute_result"
    }
   ],
   "source": [
    "# Finding hastags:\n",
    "[w for w in mytext if w.startswith('#')]"
   ]
  },
  {
   "cell_type": "code",
   "execution_count": 60,
   "id": "c1738b82",
   "metadata": {},
   "outputs": [],
   "source": [
    "import re\n",
    "text7 = '@UN @UN_Women \"Ethics are built right into the ideals and objectives of the United Nations\" \\\n",
    "#UNSG @ NY Society for Ethical Culture bit.ly/2guVelr'\n",
    "mytext2 = text7.split(' ')"
   ]
  },
  {
   "cell_type": "code",
   "execution_count": 69,
   "id": "f8ef7965",
   "metadata": {},
   "outputs": [
    {
     "data": {
      "text/plain": [
       "['@UN', '@UN_Women']"
      ]
     },
     "execution_count": 69,
     "metadata": {},
     "output_type": "execute_result"
    }
   ],
   "source": [
    "[w for w in mytext2 if re.search('@[A-Za-z0-9_]+', w)]"
   ]
  },
  {
   "cell_type": "code",
   "execution_count": 103,
   "id": "723f5a76",
   "metadata": {},
   "outputs": [],
   "source": [
    "text7 = '  I am 40years 40 years old  '\n",
    "a= text7.strip()\n",
    "mytext2 = a.split(' ')"
   ]
  },
  {
   "cell_type": "code",
   "execution_count": 104,
   "id": "61ac67bb",
   "metadata": {},
   "outputs": [
    {
     "data": {
      "text/plain": [
       "['I', 'am', '40years', '40', 'years', 'old']"
      ]
     },
     "execution_count": 104,
     "metadata": {},
     "output_type": "execute_result"
    }
   ],
   "source": [
    "mytext2"
   ]
  },
  {
   "cell_type": "code",
   "execution_count": 90,
   "id": "b6084eb4",
   "metadata": {},
   "outputs": [
    {
     "data": {
      "text/plain": [
       "'I:am:40years:40:years:old'"
      ]
     },
     "execution_count": 90,
     "metadata": {},
     "output_type": "execute_result"
    }
   ],
   "source": [
    "':'.join(mytext2)"
   ]
  },
  {
   "cell_type": "code",
   "execution_count": 87,
   "id": "992c5080",
   "metadata": {},
   "outputs": [
    {
     "data": {
      "text/plain": [
       "['I', 'am', '40years', '40', 'years', 'old']"
      ]
     },
     "execution_count": 87,
     "metadata": {},
     "output_type": "execute_result"
    }
   ],
   "source": [
    "[w for w in mytext2 if w.isalnum()]"
   ]
  },
  {
   "cell_type": "code",
   "execution_count": 105,
   "id": "faa4faa3",
   "metadata": {},
   "outputs": [
    {
     "data": {
      "text/plain": [
       "'He11o, My name is Mohammad'"
      ]
     },
     "execution_count": 105,
     "metadata": {},
     "output_type": "execute_result"
    }
   ],
   "source": [
    "text8 = \"Hello, My name is Mohammad\"\n",
    "text8. replace('l', '1')"
   ]
  },
  {
   "cell_type": "code",
   "execution_count": 106,
   "id": "7c1cdcf4",
   "metadata": {},
   "outputs": [
    {
     "data": {
      "text/plain": [
       "'Hell0, My name is M0hammad'"
      ]
     },
     "execution_count": 106,
     "metadata": {},
     "output_type": "execute_result"
    }
   ],
   "source": [
    "text8. replace('o', '0')"
   ]
  },
  {
   "cell_type": "code",
   "execution_count": 1,
   "id": "bbce3bad",
   "metadata": {},
   "outputs": [
    {
     "name": "stdout",
     "output_type": "stream",
     "text": [
      "the 5 biggest countries by population in 2017 are china, india, united states, indonesia, and brazil.\n"
     ]
    }
   ],
   "source": [
    "input_str = \"The 5 biggest countries by population in 2017 are China, India, United States, Indonesia, and Brazil.\"\n",
    "input_str = input_str.lower()\n",
    "print (input_str)\n"
   ]
  },
  {
   "cell_type": "code",
   "execution_count": 2,
   "id": "e6caea18",
   "metadata": {},
   "outputs": [
    {
     "name": "stdout",
     "output_type": "stream",
     "text": [
      "THE 5 BIGGEST COUNTRIES BY POPULATION IN 2017 ARE CHINA, INDIA, UNITED STATES, INDONESIA, AND BRAZIL.\n"
     ]
    }
   ],
   "source": [
    "input_str = input_str.upper()\n",
    "print (input_str)\n"
   ]
  },
  {
   "cell_type": "code",
   "execution_count": 7,
   "id": "c1f168d4",
   "metadata": {},
   "outputs": [
    {
     "name": "stdout",
     "output_type": "stream",
     "text": [
      "['NLTK', 'is', 'a', 'leading', 'platform', 'for', 'building', 'Python', 'programs', 'to', 'work', 'with', 'human', 'language', 'data', '.']\n",
      "['NLTK', 'leading', 'platform', 'building', 'Python', 'programs', 'work', 'human', 'language', 'data', '.']\n"
     ]
    }
   ],
   "source": [
    "# stop words Removal\n",
    "input_str = \"NLTK is a leading platform for building Python programs to work with human language data.\"\n",
    "\n",
    "import nltk\n",
    "from nltk.corpus import stopwords\n",
    "#print(stopwords.words('english'))\n",
    "stop_words = set(stopwords.words('english'))\n",
    "from nltk.tokenize import word_tokenize\n",
    "text_tokens = word_tokenize(input_str)\n",
    "filtered_sentence = [w for w in text_tokens if not w.lower() in stop_words]\n",
    "print(text_tokens)\n",
    "print(filtered_sentence)"
   ]
  },
  {
   "cell_type": "code",
   "execution_count": 11,
   "id": "1e9bf55d",
   "metadata": {},
   "outputs": [
    {
     "name": "stdout",
     "output_type": "stream",
     "text": [
      "['i', 'read', 'the', 'book', 'that', 'you', 'were', 'read', '.', 'were', 'you', 'listen', 'when', 'i', 'wa', 'speak', '?']\n"
     ]
    }
   ],
   "source": [
    "# Stemming\n",
    "from nltk.stem import PorterStemmer\n",
    "from nltk.tokenize import word_tokenize\n",
    "stemmer= PorterStemmer()\n",
    "my_str = \"I read the book that you were reading. Were you listening when I was speaking?\"\n",
    "my_str_tokens = word_tokenize(my_str)\n",
    "Stemmed_text = [stemmer.stem(w) for w in my_str_tokens]\n",
    "print(Stemmed_text)\n"
   ]
  },
  {
   "cell_type": "code",
   "execution_count": 16,
   "id": "e5ac22b7",
   "metadata": {},
   "outputs": [],
   "source": [
    "# Word2Vec\n",
    "import gensim\n",
    "from gensim.models import Word2Vec\n",
    "from nltk.corpus import brown, movie_reviews, treebank\n",
    "b = Word2Vec(brown.sents())\n",
    "b.save('brown.embedding')\n"
   ]
  },
  {
   "cell_type": "code",
   "execution_count": 17,
   "id": "ed45030b",
   "metadata": {},
   "outputs": [],
   "source": [
    "new_model = Word2Vec.load('brown.embedding')"
   ]
  },
  {
   "cell_type": "code",
   "execution_count": 36,
   "id": "9b1dafbb",
   "metadata": {},
   "outputs": [
    {
     "name": "stderr",
     "output_type": "stream",
     "text": [
      "<ipython-input-36-187112fafa62>:1: DeprecationWarning: Call to deprecated `__getitem__` (Method will be removed in 4.0.0, use self.wv.__getitem__() instead).\n",
      "  len(new_model['school'])\n"
     ]
    },
    {
     "data": {
      "text/plain": [
       "100"
      ]
     },
     "execution_count": 36,
     "metadata": {},
     "output_type": "execute_result"
    }
   ],
   "source": [
    "len(new_model['school'])"
   ]
  },
  {
   "cell_type": "code",
   "execution_count": 19,
   "id": "05875972",
   "metadata": {},
   "outputs": [
    {
     "name": "stderr",
     "output_type": "stream",
     "text": [
      "<ipython-input-19-e20f099daceb>:1: DeprecationWarning: Call to deprecated `similarity` (Method will be removed in 4.0.0, use self.wv.similarity() instead).\n",
      "  new_model.similarity('university','school')\n"
     ]
    },
    {
     "data": {
      "text/plain": [
       "0.8459621"
      ]
     },
     "execution_count": 19,
     "metadata": {},
     "output_type": "execute_result"
    }
   ],
   "source": [
    "new_model.similarity('university','school')"
   ]
  },
  {
   "cell_type": "code",
   "execution_count": 29,
   "id": "db29b9d8",
   "metadata": {},
   "outputs": [
    {
     "name": "stderr",
     "output_type": "stream",
     "text": [
      "<ipython-input-29-b5147024d3d6>:1: DeprecationWarning: Call to deprecated `most_similar` (Method will be removed in 4.0.0, use self.wv.most_similar() instead).\n",
      "  b.most_similar('money', topn=5)\n"
     ]
    },
    {
     "data": {
      "text/plain": [
       "[('care', 0.9205450415611267),\n",
       " ('job', 0.9125648140907288),\n",
       " ('trouble', 0.9070931673049927),\n",
       " ('work', 0.8856596946716309),\n",
       " ('chance', 0.8826123476028442)]"
      ]
     },
     "execution_count": 29,
     "metadata": {},
     "output_type": "execute_result"
    }
   ],
   "source": [
    "b.most_similar('money', topn=5)"
   ]
  },
  {
   "cell_type": "code",
   "execution_count": 40,
   "id": "441e740c",
   "metadata": {},
   "outputs": [
    {
     "name": "stderr",
     "output_type": "stream",
     "text": [
      "<ipython-input-40-0a1dffe90d42>:1: DeprecationWarning: Call to deprecated `__getitem__` (Method will be removed in 4.0.0, use self.wv.__getitem__() instead).\n",
      "  b['luxurious']\n"
     ]
    },
    {
     "data": {
      "text/plain": [
       "array([ 0.03205168,  0.00408772,  0.02593343, -0.03261353, -0.01654106,\n",
       "        0.01059967,  0.01492466,  0.01250996,  0.03003322, -0.01269811,\n",
       "       -0.0013344 ,  0.01138236, -0.02859038,  0.01675911, -0.04933672,\n",
       "       -0.00603718,  0.07883745, -0.00182192, -0.04594247, -0.02767265,\n",
       "        0.04760022,  0.04371065,  0.0167171 , -0.03078992, -0.01700423,\n",
       "        0.0046937 , -0.0442244 ,  0.00423902, -0.00234485, -0.00985316,\n",
       "        0.03287458, -0.02167217,  0.00517942,  0.00631453,  0.01255369,\n",
       "        0.00506655,  0.01701395, -0.02937182, -0.02257632,  0.03200735,\n",
       "        0.01756958, -0.0032186 , -0.0118684 ,  0.06403516,  0.02887243,\n",
       "        0.01067713, -0.03146733, -0.01105055,  0.00396109, -0.04056626,\n",
       "        0.02584122,  0.00962429, -0.0114872 ,  0.05510502, -0.00526329,\n",
       "        0.05008979, -0.06431801,  0.01691899,  0.07670587, -0.00767301,\n",
       "        0.0319565 , -0.01699622,  0.00145628,  0.03014223, -0.02033655,\n",
       "       -0.00396117,  0.02057686,  0.07820151,  0.00634818,  0.0048374 ,\n",
       "        0.03245278, -0.00170899,  0.01165807, -0.00259693,  0.00035892,\n",
       "        0.01568963,  0.05700868, -0.019364  , -0.00491908, -0.03465703,\n",
       "        0.04495548,  0.03285003, -0.01676693, -0.04006496,  0.06301033,\n",
       "        0.0594805 ,  0.03408671,  0.01871318,  0.0278077 , -0.00624819,\n",
       "       -0.00499558,  0.01799128, -0.03510598,  0.01501311,  0.00714041,\n",
       "        0.07581147, -0.01998695, -0.01460353, -0.035638  ,  0.01327151],\n",
       "      dtype=float32)"
      ]
     },
     "execution_count": 40,
     "metadata": {},
     "output_type": "execute_result"
    }
   ],
   "source": [
    "b['luxurious']"
   ]
  },
  {
   "cell_type": "code",
   "execution_count": 43,
   "id": "bdac89de",
   "metadata": {},
   "outputs": [
    {
     "name": "stderr",
     "output_type": "stream",
     "text": [
      "<ipython-input-43-ccc7b8eeea1e>:1: DeprecationWarning: Call to deprecated `__getitem__` (Method will be removed in 4.0.0, use self.wv.__getitem__() instead).\n",
      "  b['work']\n"
     ]
    },
    {
     "data": {
      "text/plain": [
       "array([ 0.4671273 ,  0.08193175,  1.0630869 , -0.02453641, -0.28627628,\n",
       "        0.2762124 ,  0.25051692,  0.33512738,  0.18760635,  0.28240988,\n",
       "       -0.9328512 , -0.09866603, -0.30804512,  0.60673   , -0.60258836,\n",
       "        0.09612592,  0.6077708 , -0.09358612,  0.39328897, -0.13820387,\n",
       "        0.55969083,  0.91281635,  0.6714059 ,  0.37322506,  0.21217081,\n",
       "       -0.4715818 , -0.37982643,  0.72174746, -0.04915141,  0.19702123,\n",
       "        0.9708952 , -0.2952745 , -0.0578357 , -0.10815112,  0.5880235 ,\n",
       "        0.31195056, -0.00326888,  0.495651  , -0.308626  ,  0.07070125,\n",
       "        0.29310945,  0.09966841,  0.19791149,  0.82541746, -0.32081085,\n",
       "       -0.60276765, -0.01961734,  0.45718512,  0.22749533, -0.37301812,\n",
       "       -1.428158  , -0.34260607,  0.04337405,  0.59246176,  0.43944997,\n",
       "        0.7161143 , -0.547629  , -0.39423293,  0.11249759,  0.48733416,\n",
       "        0.88186055, -0.12346611,  0.44893572, -0.12846942,  0.27169177,\n",
       "       -0.8725512 ,  0.25063074,  0.435738  , -0.109536  , -0.285414  ,\n",
       "        0.21727188,  0.01095597, -0.365525  , -0.22066173, -0.71533984,\n",
       "       -0.42727736,  0.53640914, -0.30860406,  0.01585572,  0.06175297,\n",
       "        0.4161343 ,  0.047021  , -0.51769686, -0.5326473 ,  0.59094906,\n",
       "        0.68588614, -0.41459572, -0.27075163,  0.3531113 ,  0.22850557,\n",
       "       -0.13066089,  0.11086322,  0.3091294 ,  0.06507356, -0.535469  ,\n",
       "        0.40902355,  0.5455585 ,  0.62907135,  0.75941354, -0.83594644],\n",
       "      dtype=float32)"
      ]
     },
     "execution_count": 43,
     "metadata": {},
     "output_type": "execute_result"
    }
   ],
   "source": [
    "b['work']"
   ]
  },
  {
   "cell_type": "code",
   "execution_count": 42,
   "id": "7e944a57",
   "metadata": {},
   "outputs": [
    {
     "data": {
      "text/plain": [
       "57340"
      ]
     },
     "execution_count": 42,
     "metadata": {},
     "output_type": "execute_result"
    }
   ],
   "source": [
    "len (brown.sents())"
   ]
  },
  {
   "cell_type": "code",
   "execution_count": null,
   "id": "e882a469",
   "metadata": {},
   "outputs": [],
   "source": []
  }
 ],
 "metadata": {
  "kernelspec": {
   "display_name": "Python 3",
   "language": "python",
   "name": "python3"
  },
  "language_info": {
   "codemirror_mode": {
    "name": "ipython",
    "version": 3
   },
   "file_extension": ".py",
   "mimetype": "text/x-python",
   "name": "python",
   "nbconvert_exporter": "python",
   "pygments_lexer": "ipython3",
   "version": "3.8.8"
  }
 },
 "nbformat": 4,
 "nbformat_minor": 5
}
